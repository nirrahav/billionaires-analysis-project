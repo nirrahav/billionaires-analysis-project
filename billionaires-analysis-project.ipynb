{
 "cells": [
  {
   "cell_type": "code",
   "execution_count": 1,
   "id": "35317d04",
   "metadata": {
    "_cell_guid": "b1076dfc-b9ad-4769-8c92-a6c4dae69d19",
    "_uuid": "8f2839f25d086af736a60e9eeb907d3b93b6e0e5",
    "execution": {
     "iopub.execute_input": "2023-12-07T15:19:19.142341Z",
     "iopub.status.busy": "2023-12-07T15:19:19.141171Z",
     "iopub.status.idle": "2023-12-07T15:19:21.856430Z",
     "shell.execute_reply": "2023-12-07T15:19:21.855156Z"
    },
    "papermill": {
     "duration": 2.726626,
     "end_time": "2023-12-07T15:19:21.858881",
     "exception": false,
     "start_time": "2023-12-07T15:19:19.132255",
     "status": "completed"
    },
    "tags": []
   },
   "outputs": [
    {
     "name": "stdout",
     "output_type": "stream",
     "text": [
      "/kaggle/input/billionaires-statistics-dataset/Billionaires Statistics Dataset.csv\n"
     ]
    }
   ],
   "source": [
    "# This Python 3 environment comes with many helpful analytics libraries installed\n",
    "# It is defined by the kaggle/python Docker image: https://github.com/kaggle/docker-python\n",
    "# For example, here's several helpful packages to load\n",
    "\n",
    "import numpy as np # linear algebra\n",
    "import pandas as pd # data processing, CSV file I/O (e.g. pd.read_csv)\n",
    "import matplotlib.pyplot as plt\n",
    "import seaborn as sns\n",
    "\n",
    "\n",
    "\n",
    "# Input data files are available in the read-only \"../input/\" directory\n",
    "# For example, running this (by clicking run or pressing Shift+Enter) will list all files under the input directory\n",
    "\n",
    "import os\n",
    "for dirname, _, filenames in os.walk('/kaggle/input'):\n",
    "    for filename in filenames:\n",
    "        print(os.path.join(dirname, filename))\n",
    "\n",
    "# You can write up to 20GB to the current directory (/kaggle/working/) that gets preserved as output when you create a version using \"Save & Run All\" \n",
    "# You can also write temporary files to /kaggle/temp/, but they won't be saved outside of the current session"
   ]
  },
  {
   "cell_type": "markdown",
   "id": "71692fec",
   "metadata": {
    "papermill": {
     "duration": 0.006509,
     "end_time": "2023-12-07T15:19:21.872640",
     "exception": false,
     "start_time": "2023-12-07T15:19:21.866131",
     "status": "completed"
    },
    "tags": []
   },
   "source": [
    "# Research goals:\n",
    "1. Explore the wealth of billionaires by industry, region of residence, age and gender.\n",
    "2. To investigate how many people became rich themselves and how many inherited their wealth\n"
   ]
  },
  {
   "cell_type": "code",
   "execution_count": 2,
   "id": "7f1030f9",
   "metadata": {
    "execution": {
     "iopub.execute_input": "2023-12-07T15:19:21.888524Z",
     "iopub.status.busy": "2023-12-07T15:19:21.887969Z",
     "iopub.status.idle": "2023-12-07T15:19:21.946513Z",
     "shell.execute_reply": "2023-12-07T15:19:21.945318Z"
    },
    "papermill": {
     "duration": 0.069495,
     "end_time": "2023-12-07T15:19:21.949059",
     "exception": false,
     "start_time": "2023-12-07T15:19:21.879564",
     "status": "completed"
    },
    "tags": []
   },
   "outputs": [],
   "source": [
    "bl = pd.read_csv(\"/kaggle/input/billionaires-statistics-dataset/Billionaires Statistics Dataset.csv\")"
   ]
  },
  {
   "cell_type": "code",
   "execution_count": 3,
   "id": "08b47f30",
   "metadata": {
    "execution": {
     "iopub.execute_input": "2023-12-07T15:19:21.965603Z",
     "iopub.status.busy": "2023-12-07T15:19:21.964592Z",
     "iopub.status.idle": "2023-12-07T15:19:22.007288Z",
     "shell.execute_reply": "2023-12-07T15:19:22.006151Z"
    },
    "papermill": {
     "duration": 0.053529,
     "end_time": "2023-12-07T15:19:22.009833",
     "exception": false,
     "start_time": "2023-12-07T15:19:21.956304",
     "status": "completed"
    },
    "tags": []
   },
   "outputs": [
    {
     "data": {
      "text/html": [
       "<div>\n",
       "<style scoped>\n",
       "    .dataframe tbody tr th:only-of-type {\n",
       "        vertical-align: middle;\n",
       "    }\n",
       "\n",
       "    .dataframe tbody tr th {\n",
       "        vertical-align: top;\n",
       "    }\n",
       "\n",
       "    .dataframe thead th {\n",
       "        text-align: right;\n",
       "    }\n",
       "</style>\n",
       "<table border=\"1\" class=\"dataframe\">\n",
       "  <thead>\n",
       "    <tr style=\"text-align: right;\">\n",
       "      <th></th>\n",
       "      <th>rank</th>\n",
       "      <th>finalWorth</th>\n",
       "      <th>category</th>\n",
       "      <th>personName</th>\n",
       "      <th>age</th>\n",
       "      <th>country</th>\n",
       "      <th>city</th>\n",
       "      <th>source</th>\n",
       "      <th>industries</th>\n",
       "      <th>countryOfCitizenship</th>\n",
       "      <th>...</th>\n",
       "      <th>cpi_change_country</th>\n",
       "      <th>gdp_country</th>\n",
       "      <th>gross_tertiary_education_enrollment</th>\n",
       "      <th>gross_primary_education_enrollment_country</th>\n",
       "      <th>life_expectancy_country</th>\n",
       "      <th>tax_revenue_country_country</th>\n",
       "      <th>total_tax_rate_country</th>\n",
       "      <th>population_country</th>\n",
       "      <th>latitude_country</th>\n",
       "      <th>longitude_country</th>\n",
       "    </tr>\n",
       "  </thead>\n",
       "  <tbody>\n",
       "    <tr>\n",
       "      <th>0</th>\n",
       "      <td>1</td>\n",
       "      <td>211000</td>\n",
       "      <td>Fashion &amp; Retail</td>\n",
       "      <td>Bernard Arnault &amp; family</td>\n",
       "      <td>74.0</td>\n",
       "      <td>France</td>\n",
       "      <td>Paris</td>\n",
       "      <td>LVMH</td>\n",
       "      <td>Fashion &amp; Retail</td>\n",
       "      <td>France</td>\n",
       "      <td>...</td>\n",
       "      <td>1.1</td>\n",
       "      <td>$2,715,518,274,227</td>\n",
       "      <td>65.6</td>\n",
       "      <td>102.5</td>\n",
       "      <td>82.5</td>\n",
       "      <td>24.2</td>\n",
       "      <td>60.7</td>\n",
       "      <td>67059887.0</td>\n",
       "      <td>46.227638</td>\n",
       "      <td>2.213749</td>\n",
       "    </tr>\n",
       "    <tr>\n",
       "      <th>1</th>\n",
       "      <td>2</td>\n",
       "      <td>180000</td>\n",
       "      <td>Automotive</td>\n",
       "      <td>Elon Musk</td>\n",
       "      <td>51.0</td>\n",
       "      <td>United States</td>\n",
       "      <td>Austin</td>\n",
       "      <td>Tesla, SpaceX</td>\n",
       "      <td>Automotive</td>\n",
       "      <td>United States</td>\n",
       "      <td>...</td>\n",
       "      <td>7.5</td>\n",
       "      <td>$21,427,700,000,000</td>\n",
       "      <td>88.2</td>\n",
       "      <td>101.8</td>\n",
       "      <td>78.5</td>\n",
       "      <td>9.6</td>\n",
       "      <td>36.6</td>\n",
       "      <td>328239523.0</td>\n",
       "      <td>37.090240</td>\n",
       "      <td>-95.712891</td>\n",
       "    </tr>\n",
       "    <tr>\n",
       "      <th>2</th>\n",
       "      <td>3</td>\n",
       "      <td>114000</td>\n",
       "      <td>Technology</td>\n",
       "      <td>Jeff Bezos</td>\n",
       "      <td>59.0</td>\n",
       "      <td>United States</td>\n",
       "      <td>Medina</td>\n",
       "      <td>Amazon</td>\n",
       "      <td>Technology</td>\n",
       "      <td>United States</td>\n",
       "      <td>...</td>\n",
       "      <td>7.5</td>\n",
       "      <td>$21,427,700,000,000</td>\n",
       "      <td>88.2</td>\n",
       "      <td>101.8</td>\n",
       "      <td>78.5</td>\n",
       "      <td>9.6</td>\n",
       "      <td>36.6</td>\n",
       "      <td>328239523.0</td>\n",
       "      <td>37.090240</td>\n",
       "      <td>-95.712891</td>\n",
       "    </tr>\n",
       "    <tr>\n",
       "      <th>3</th>\n",
       "      <td>4</td>\n",
       "      <td>107000</td>\n",
       "      <td>Technology</td>\n",
       "      <td>Larry Ellison</td>\n",
       "      <td>78.0</td>\n",
       "      <td>United States</td>\n",
       "      <td>Lanai</td>\n",
       "      <td>Oracle</td>\n",
       "      <td>Technology</td>\n",
       "      <td>United States</td>\n",
       "      <td>...</td>\n",
       "      <td>7.5</td>\n",
       "      <td>$21,427,700,000,000</td>\n",
       "      <td>88.2</td>\n",
       "      <td>101.8</td>\n",
       "      <td>78.5</td>\n",
       "      <td>9.6</td>\n",
       "      <td>36.6</td>\n",
       "      <td>328239523.0</td>\n",
       "      <td>37.090240</td>\n",
       "      <td>-95.712891</td>\n",
       "    </tr>\n",
       "    <tr>\n",
       "      <th>4</th>\n",
       "      <td>5</td>\n",
       "      <td>106000</td>\n",
       "      <td>Finance &amp; Investments</td>\n",
       "      <td>Warren Buffett</td>\n",
       "      <td>92.0</td>\n",
       "      <td>United States</td>\n",
       "      <td>Omaha</td>\n",
       "      <td>Berkshire Hathaway</td>\n",
       "      <td>Finance &amp; Investments</td>\n",
       "      <td>United States</td>\n",
       "      <td>...</td>\n",
       "      <td>7.5</td>\n",
       "      <td>$21,427,700,000,000</td>\n",
       "      <td>88.2</td>\n",
       "      <td>101.8</td>\n",
       "      <td>78.5</td>\n",
       "      <td>9.6</td>\n",
       "      <td>36.6</td>\n",
       "      <td>328239523.0</td>\n",
       "      <td>37.090240</td>\n",
       "      <td>-95.712891</td>\n",
       "    </tr>\n",
       "  </tbody>\n",
       "</table>\n",
       "<p>5 rows × 35 columns</p>\n",
       "</div>"
      ],
      "text/plain": [
       "   rank  finalWorth               category                personName   age  \\\n",
       "0     1      211000       Fashion & Retail  Bernard Arnault & family  74.0   \n",
       "1     2      180000             Automotive                 Elon Musk  51.0   \n",
       "2     3      114000             Technology                Jeff Bezos  59.0   \n",
       "3     4      107000             Technology             Larry Ellison  78.0   \n",
       "4     5      106000  Finance & Investments            Warren Buffett  92.0   \n",
       "\n",
       "         country    city              source             industries  \\\n",
       "0         France   Paris                LVMH       Fashion & Retail   \n",
       "1  United States  Austin       Tesla, SpaceX             Automotive   \n",
       "2  United States  Medina              Amazon             Technology   \n",
       "3  United States   Lanai              Oracle             Technology   \n",
       "4  United States   Omaha  Berkshire Hathaway  Finance & Investments   \n",
       "\n",
       "  countryOfCitizenship  ... cpi_change_country           gdp_country  \\\n",
       "0               France  ...                1.1   $2,715,518,274,227    \n",
       "1        United States  ...                7.5  $21,427,700,000,000    \n",
       "2        United States  ...                7.5  $21,427,700,000,000    \n",
       "3        United States  ...                7.5  $21,427,700,000,000    \n",
       "4        United States  ...                7.5  $21,427,700,000,000    \n",
       "\n",
       "  gross_tertiary_education_enrollment  \\\n",
       "0                                65.6   \n",
       "1                                88.2   \n",
       "2                                88.2   \n",
       "3                                88.2   \n",
       "4                                88.2   \n",
       "\n",
       "  gross_primary_education_enrollment_country life_expectancy_country  \\\n",
       "0                                      102.5                    82.5   \n",
       "1                                      101.8                    78.5   \n",
       "2                                      101.8                    78.5   \n",
       "3                                      101.8                    78.5   \n",
       "4                                      101.8                    78.5   \n",
       "\n",
       "  tax_revenue_country_country total_tax_rate_country population_country  \\\n",
       "0                        24.2                   60.7         67059887.0   \n",
       "1                         9.6                   36.6        328239523.0   \n",
       "2                         9.6                   36.6        328239523.0   \n",
       "3                         9.6                   36.6        328239523.0   \n",
       "4                         9.6                   36.6        328239523.0   \n",
       "\n",
       "  latitude_country longitude_country  \n",
       "0        46.227638          2.213749  \n",
       "1        37.090240        -95.712891  \n",
       "2        37.090240        -95.712891  \n",
       "3        37.090240        -95.712891  \n",
       "4        37.090240        -95.712891  \n",
       "\n",
       "[5 rows x 35 columns]"
      ]
     },
     "execution_count": 3,
     "metadata": {},
     "output_type": "execute_result"
    }
   ],
   "source": [
    "bl.head()"
   ]
  },
  {
   "cell_type": "code",
   "execution_count": 4,
   "id": "7afd37b9",
   "metadata": {
    "execution": {
     "iopub.execute_input": "2023-12-07T15:19:22.026749Z",
     "iopub.status.busy": "2023-12-07T15:19:22.026344Z",
     "iopub.status.idle": "2023-12-07T15:19:22.034019Z",
     "shell.execute_reply": "2023-12-07T15:19:22.032814Z"
    },
    "papermill": {
     "duration": 0.018384,
     "end_time": "2023-12-07T15:19:22.036126",
     "exception": false,
     "start_time": "2023-12-07T15:19:22.017742",
     "status": "completed"
    },
    "tags": []
   },
   "outputs": [
    {
     "data": {
      "text/plain": [
       "Index(['rank', 'finalWorth', 'category', 'personName', 'age', 'country',\n",
       "       'city', 'source', 'industries', 'countryOfCitizenship', 'organization',\n",
       "       'selfMade', 'status', 'gender', 'birthDate', 'lastName', 'firstName',\n",
       "       'title', 'date', 'state', 'residenceStateRegion', 'birthYear',\n",
       "       'birthMonth', 'birthDay', 'cpi_country', 'cpi_change_country',\n",
       "       'gdp_country', 'gross_tertiary_education_enrollment',\n",
       "       'gross_primary_education_enrollment_country', 'life_expectancy_country',\n",
       "       'tax_revenue_country_country', 'total_tax_rate_country',\n",
       "       'population_country', 'latitude_country', 'longitude_country'],\n",
       "      dtype='object')"
      ]
     },
     "execution_count": 4,
     "metadata": {},
     "output_type": "execute_result"
    }
   ],
   "source": [
    "bl.columns\n"
   ]
  },
  {
   "cell_type": "code",
   "execution_count": 5,
   "id": "b1b8f105",
   "metadata": {
    "execution": {
     "iopub.execute_input": "2023-12-07T15:19:22.052865Z",
     "iopub.status.busy": "2023-12-07T15:19:22.052147Z",
     "iopub.status.idle": "2023-12-07T15:19:22.084467Z",
     "shell.execute_reply": "2023-12-07T15:19:22.083054Z"
    },
    "papermill": {
     "duration": 0.043407,
     "end_time": "2023-12-07T15:19:22.087006",
     "exception": false,
     "start_time": "2023-12-07T15:19:22.043599",
     "status": "completed"
    },
    "tags": []
   },
   "outputs": [
    {
     "name": "stdout",
     "output_type": "stream",
     "text": [
      "<class 'pandas.core.frame.DataFrame'>\n",
      "RangeIndex: 2640 entries, 0 to 2639\n",
      "Data columns (total 35 columns):\n",
      " #   Column                                      Non-Null Count  Dtype  \n",
      "---  ------                                      --------------  -----  \n",
      " 0   rank                                        2640 non-null   int64  \n",
      " 1   finalWorth                                  2640 non-null   int64  \n",
      " 2   category                                    2640 non-null   object \n",
      " 3   personName                                  2640 non-null   object \n",
      " 4   age                                         2575 non-null   float64\n",
      " 5   country                                     2602 non-null   object \n",
      " 6   city                                        2568 non-null   object \n",
      " 7   source                                      2640 non-null   object \n",
      " 8   industries                                  2640 non-null   object \n",
      " 9   countryOfCitizenship                        2640 non-null   object \n",
      " 10  organization                                325 non-null    object \n",
      " 11  selfMade                                    2640 non-null   bool   \n",
      " 12  status                                      2640 non-null   object \n",
      " 13  gender                                      2640 non-null   object \n",
      " 14  birthDate                                   2564 non-null   object \n",
      " 15  lastName                                    2640 non-null   object \n",
      " 16  firstName                                   2637 non-null   object \n",
      " 17  title                                       339 non-null    object \n",
      " 18  date                                        2640 non-null   object \n",
      " 19  state                                       753 non-null    object \n",
      " 20  residenceStateRegion                        747 non-null    object \n",
      " 21  birthYear                                   2564 non-null   float64\n",
      " 22  birthMonth                                  2564 non-null   float64\n",
      " 23  birthDay                                    2564 non-null   float64\n",
      " 24  cpi_country                                 2456 non-null   float64\n",
      " 25  cpi_change_country                          2456 non-null   float64\n",
      " 26  gdp_country                                 2476 non-null   object \n",
      " 27  gross_tertiary_education_enrollment         2458 non-null   float64\n",
      " 28  gross_primary_education_enrollment_country  2459 non-null   float64\n",
      " 29  life_expectancy_country                     2458 non-null   float64\n",
      " 30  tax_revenue_country_country                 2457 non-null   float64\n",
      " 31  total_tax_rate_country                      2458 non-null   float64\n",
      " 32  population_country                          2476 non-null   float64\n",
      " 33  latitude_country                            2476 non-null   float64\n",
      " 34  longitude_country                           2476 non-null   float64\n",
      "dtypes: bool(1), float64(14), int64(2), object(18)\n",
      "memory usage: 704.0+ KB\n"
     ]
    }
   ],
   "source": [
    "bl.info()"
   ]
  },
  {
   "cell_type": "markdown",
   "id": "b8f99870",
   "metadata": {
    "papermill": {
     "duration": 0.007245,
     "end_time": "2023-12-07T15:19:22.101960",
     "exception": false,
     "start_time": "2023-12-07T15:19:22.094715",
     "status": "completed"
    },
    "tags": []
   },
   "source": [
    "# Feature engineering "
   ]
  },
  {
   "cell_type": "markdown",
   "id": "1527b128",
   "metadata": {
    "papermill": {
     "duration": 0.007029,
     "end_time": "2023-12-07T15:19:22.116537",
     "exception": false,
     "start_time": "2023-12-07T15:19:22.109508",
     "status": "completed"
    },
    "tags": []
   },
   "source": [
    "### Are there not muches dataset feature?"
   ]
  },
  {
   "cell_type": "code",
   "execution_count": 6,
   "id": "75f12e2f",
   "metadata": {
    "execution": {
     "iopub.execute_input": "2023-12-07T15:19:22.133908Z",
     "iopub.status.busy": "2023-12-07T15:19:22.133152Z",
     "iopub.status.idle": "2023-12-07T15:19:22.142307Z",
     "shell.execute_reply": "2023-12-07T15:19:22.141293Z"
    },
    "papermill": {
     "duration": 0.019903,
     "end_time": "2023-12-07T15:19:22.144428",
     "exception": false,
     "start_time": "2023-12-07T15:19:22.124525",
     "status": "completed"
    },
    "tags": []
   },
   "outputs": [
    {
     "data": {
      "text/plain": [
       "0        $2,715,518,274,227 \n",
       "1       $21,427,700,000,000 \n",
       "2       $21,427,700,000,000 \n",
       "3       $21,427,700,000,000 \n",
       "4       $21,427,700,000,000 \n",
       "                ...         \n",
       "2635    $19,910,000,000,000 \n",
       "2636    $21,427,700,000,000 \n",
       "2637    $19,910,000,000,000 \n",
       "2638    $19,910,000,000,000 \n",
       "2639       $376,795,508,680 \n",
       "Name: gdp_country, Length: 2640, dtype: object"
      ]
     },
     "execution_count": 6,
     "metadata": {},
     "output_type": "execute_result"
    }
   ],
   "source": [
    "bl.gdp_country"
   ]
  },
  {
   "cell_type": "code",
   "execution_count": 7,
   "id": "cc353d24",
   "metadata": {
    "execution": {
     "iopub.execute_input": "2023-12-07T15:19:22.161878Z",
     "iopub.status.busy": "2023-12-07T15:19:22.161101Z",
     "iopub.status.idle": "2023-12-07T15:19:22.172373Z",
     "shell.execute_reply": "2023-12-07T15:19:22.171480Z"
    },
    "papermill": {
     "duration": 0.02257,
     "end_time": "2023-12-07T15:19:22.174629",
     "exception": false,
     "start_time": "2023-12-07T15:19:22.152059",
     "status": "completed"
    },
    "tags": []
   },
   "outputs": [],
   "source": [
    "bl.gdp_country = bl.gdp_country.str.replace(\"$\", \"\")\n",
    "bl.gdp_country = bl.gdp_country.str.replace(\" \", \"\")\n",
    "bl.gdp_country = bl.gdp_country.str.replace(\",\", \"\")"
   ]
  },
  {
   "cell_type": "code",
   "execution_count": 8,
   "id": "ab39a1c4",
   "metadata": {
    "execution": {
     "iopub.execute_input": "2023-12-07T15:19:22.192646Z",
     "iopub.status.busy": "2023-12-07T15:19:22.192003Z",
     "iopub.status.idle": "2023-12-07T15:19:22.217487Z",
     "shell.execute_reply": "2023-12-07T15:19:22.216349Z"
    },
    "papermill": {
     "duration": 0.037864,
     "end_time": "2023-12-07T15:19:22.220332",
     "exception": false,
     "start_time": "2023-12-07T15:19:22.182468",
     "status": "completed"
    },
    "tags": []
   },
   "outputs": [],
   "source": [
    "bl.gdp_country=pd.to_numeric(bl[\"gdp_country\"])\n",
    "bl.birthDate=pd.to_datetime(bl[\"birthDate\"])\n",
    "bl.date=pd.to_datetime(bl[\"date\"])\n"
   ]
  },
  {
   "cell_type": "code",
   "execution_count": 9,
   "id": "0086d334",
   "metadata": {
    "execution": {
     "iopub.execute_input": "2023-12-07T15:19:22.237737Z",
     "iopub.status.busy": "2023-12-07T15:19:22.237313Z",
     "iopub.status.idle": "2023-12-07T15:19:22.264424Z",
     "shell.execute_reply": "2023-12-07T15:19:22.263288Z"
    },
    "papermill": {
     "duration": 0.038228,
     "end_time": "2023-12-07T15:19:22.266506",
     "exception": false,
     "start_time": "2023-12-07T15:19:22.228278",
     "status": "completed"
    },
    "tags": []
   },
   "outputs": [
    {
     "data": {
      "text/html": [
       "<div>\n",
       "<style scoped>\n",
       "    .dataframe tbody tr th:only-of-type {\n",
       "        vertical-align: middle;\n",
       "    }\n",
       "\n",
       "    .dataframe tbody tr th {\n",
       "        vertical-align: top;\n",
       "    }\n",
       "\n",
       "    .dataframe thead th {\n",
       "        text-align: right;\n",
       "    }\n",
       "</style>\n",
       "<table border=\"1\" class=\"dataframe\">\n",
       "  <thead>\n",
       "    <tr style=\"text-align: right;\">\n",
       "      <th></th>\n",
       "      <th>rank</th>\n",
       "      <th>finalWorth</th>\n",
       "      <th>category</th>\n",
       "      <th>personName</th>\n",
       "      <th>age</th>\n",
       "      <th>country</th>\n",
       "      <th>city</th>\n",
       "      <th>source</th>\n",
       "      <th>industries</th>\n",
       "      <th>countryOfCitizenship</th>\n",
       "      <th>...</th>\n",
       "      <th>cpi_change_country</th>\n",
       "      <th>gdp_country</th>\n",
       "      <th>gross_tertiary_education_enrollment</th>\n",
       "      <th>gross_primary_education_enrollment_country</th>\n",
       "      <th>life_expectancy_country</th>\n",
       "      <th>tax_revenue_country_country</th>\n",
       "      <th>total_tax_rate_country</th>\n",
       "      <th>population_country</th>\n",
       "      <th>latitude_country</th>\n",
       "      <th>longitude_country</th>\n",
       "    </tr>\n",
       "  </thead>\n",
       "  <tbody>\n",
       "    <tr>\n",
       "      <th>0</th>\n",
       "      <td>1</td>\n",
       "      <td>211000</td>\n",
       "      <td>Fashion &amp; Retail</td>\n",
       "      <td>Bernard Arnault &amp; family</td>\n",
       "      <td>74.0</td>\n",
       "      <td>France</td>\n",
       "      <td>Paris</td>\n",
       "      <td>LVMH</td>\n",
       "      <td>Fashion &amp; Retail</td>\n",
       "      <td>France</td>\n",
       "      <td>...</td>\n",
       "      <td>1.1</td>\n",
       "      <td>2.715518e+12</td>\n",
       "      <td>65.6</td>\n",
       "      <td>102.5</td>\n",
       "      <td>82.5</td>\n",
       "      <td>24.2</td>\n",
       "      <td>60.7</td>\n",
       "      <td>67059887.0</td>\n",
       "      <td>46.227638</td>\n",
       "      <td>2.213749</td>\n",
       "    </tr>\n",
       "    <tr>\n",
       "      <th>1</th>\n",
       "      <td>2</td>\n",
       "      <td>180000</td>\n",
       "      <td>Automotive</td>\n",
       "      <td>Elon Musk</td>\n",
       "      <td>51.0</td>\n",
       "      <td>United States</td>\n",
       "      <td>Austin</td>\n",
       "      <td>Tesla, SpaceX</td>\n",
       "      <td>Automotive</td>\n",
       "      <td>United States</td>\n",
       "      <td>...</td>\n",
       "      <td>7.5</td>\n",
       "      <td>2.142770e+13</td>\n",
       "      <td>88.2</td>\n",
       "      <td>101.8</td>\n",
       "      <td>78.5</td>\n",
       "      <td>9.6</td>\n",
       "      <td>36.6</td>\n",
       "      <td>328239523.0</td>\n",
       "      <td>37.090240</td>\n",
       "      <td>-95.712891</td>\n",
       "    </tr>\n",
       "    <tr>\n",
       "      <th>2</th>\n",
       "      <td>3</td>\n",
       "      <td>114000</td>\n",
       "      <td>Technology</td>\n",
       "      <td>Jeff Bezos</td>\n",
       "      <td>59.0</td>\n",
       "      <td>United States</td>\n",
       "      <td>Medina</td>\n",
       "      <td>Amazon</td>\n",
       "      <td>Technology</td>\n",
       "      <td>United States</td>\n",
       "      <td>...</td>\n",
       "      <td>7.5</td>\n",
       "      <td>2.142770e+13</td>\n",
       "      <td>88.2</td>\n",
       "      <td>101.8</td>\n",
       "      <td>78.5</td>\n",
       "      <td>9.6</td>\n",
       "      <td>36.6</td>\n",
       "      <td>328239523.0</td>\n",
       "      <td>37.090240</td>\n",
       "      <td>-95.712891</td>\n",
       "    </tr>\n",
       "    <tr>\n",
       "      <th>3</th>\n",
       "      <td>4</td>\n",
       "      <td>107000</td>\n",
       "      <td>Technology</td>\n",
       "      <td>Larry Ellison</td>\n",
       "      <td>78.0</td>\n",
       "      <td>United States</td>\n",
       "      <td>Lanai</td>\n",
       "      <td>Oracle</td>\n",
       "      <td>Technology</td>\n",
       "      <td>United States</td>\n",
       "      <td>...</td>\n",
       "      <td>7.5</td>\n",
       "      <td>2.142770e+13</td>\n",
       "      <td>88.2</td>\n",
       "      <td>101.8</td>\n",
       "      <td>78.5</td>\n",
       "      <td>9.6</td>\n",
       "      <td>36.6</td>\n",
       "      <td>328239523.0</td>\n",
       "      <td>37.090240</td>\n",
       "      <td>-95.712891</td>\n",
       "    </tr>\n",
       "    <tr>\n",
       "      <th>4</th>\n",
       "      <td>5</td>\n",
       "      <td>106000</td>\n",
       "      <td>Finance &amp; Investments</td>\n",
       "      <td>Warren Buffett</td>\n",
       "      <td>92.0</td>\n",
       "      <td>United States</td>\n",
       "      <td>Omaha</td>\n",
       "      <td>Berkshire Hathaway</td>\n",
       "      <td>Finance &amp; Investments</td>\n",
       "      <td>United States</td>\n",
       "      <td>...</td>\n",
       "      <td>7.5</td>\n",
       "      <td>2.142770e+13</td>\n",
       "      <td>88.2</td>\n",
       "      <td>101.8</td>\n",
       "      <td>78.5</td>\n",
       "      <td>9.6</td>\n",
       "      <td>36.6</td>\n",
       "      <td>328239523.0</td>\n",
       "      <td>37.090240</td>\n",
       "      <td>-95.712891</td>\n",
       "    </tr>\n",
       "  </tbody>\n",
       "</table>\n",
       "<p>5 rows × 35 columns</p>\n",
       "</div>"
      ],
      "text/plain": [
       "   rank  finalWorth               category                personName   age  \\\n",
       "0     1      211000       Fashion & Retail  Bernard Arnault & family  74.0   \n",
       "1     2      180000             Automotive                 Elon Musk  51.0   \n",
       "2     3      114000             Technology                Jeff Bezos  59.0   \n",
       "3     4      107000             Technology             Larry Ellison  78.0   \n",
       "4     5      106000  Finance & Investments            Warren Buffett  92.0   \n",
       "\n",
       "         country    city              source             industries  \\\n",
       "0         France   Paris                LVMH       Fashion & Retail   \n",
       "1  United States  Austin       Tesla, SpaceX             Automotive   \n",
       "2  United States  Medina              Amazon             Technology   \n",
       "3  United States   Lanai              Oracle             Technology   \n",
       "4  United States   Omaha  Berkshire Hathaway  Finance & Investments   \n",
       "\n",
       "  countryOfCitizenship  ... cpi_change_country   gdp_country  \\\n",
       "0               France  ...                1.1  2.715518e+12   \n",
       "1        United States  ...                7.5  2.142770e+13   \n",
       "2        United States  ...                7.5  2.142770e+13   \n",
       "3        United States  ...                7.5  2.142770e+13   \n",
       "4        United States  ...                7.5  2.142770e+13   \n",
       "\n",
       "  gross_tertiary_education_enrollment  \\\n",
       "0                                65.6   \n",
       "1                                88.2   \n",
       "2                                88.2   \n",
       "3                                88.2   \n",
       "4                                88.2   \n",
       "\n",
       "  gross_primary_education_enrollment_country life_expectancy_country  \\\n",
       "0                                      102.5                    82.5   \n",
       "1                                      101.8                    78.5   \n",
       "2                                      101.8                    78.5   \n",
       "3                                      101.8                    78.5   \n",
       "4                                      101.8                    78.5   \n",
       "\n",
       "  tax_revenue_country_country total_tax_rate_country population_country  \\\n",
       "0                        24.2                   60.7         67059887.0   \n",
       "1                         9.6                   36.6        328239523.0   \n",
       "2                         9.6                   36.6        328239523.0   \n",
       "3                         9.6                   36.6        328239523.0   \n",
       "4                         9.6                   36.6        328239523.0   \n",
       "\n",
       "  latitude_country longitude_country  \n",
       "0        46.227638          2.213749  \n",
       "1        37.090240        -95.712891  \n",
       "2        37.090240        -95.712891  \n",
       "3        37.090240        -95.712891  \n",
       "4        37.090240        -95.712891  \n",
       "\n",
       "[5 rows x 35 columns]"
      ]
     },
     "execution_count": 9,
     "metadata": {},
     "output_type": "execute_result"
    }
   ],
   "source": [
    "bl.head()"
   ]
  },
  {
   "cell_type": "markdown",
   "id": "8ae4ed9b",
   "metadata": {
    "papermill": {
     "duration": 0.007988,
     "end_time": "2023-12-07T15:19:22.282512",
     "exception": false,
     "start_time": "2023-12-07T15:19:22.274524",
     "status": "completed"
    },
    "tags": []
   },
   "source": [
    "### Are there missing value, duplicate or outliers?"
   ]
  },
  {
   "cell_type": "code",
   "execution_count": 10,
   "id": "091062f9",
   "metadata": {
    "execution": {
     "iopub.execute_input": "2023-12-07T15:19:22.300639Z",
     "iopub.status.busy": "2023-12-07T15:19:22.299999Z",
     "iopub.status.idle": "2023-12-07T15:19:22.324159Z",
     "shell.execute_reply": "2023-12-07T15:19:22.323011Z"
    },
    "papermill": {
     "duration": 0.036208,
     "end_time": "2023-12-07T15:19:22.326716",
     "exception": false,
     "start_time": "2023-12-07T15:19:22.290508",
     "status": "completed"
    },
    "tags": []
   },
   "outputs": [
    {
     "data": {
      "text/plain": [
       "0       False\n",
       "1       False\n",
       "2       False\n",
       "3       False\n",
       "4       False\n",
       "        ...  \n",
       "2635    False\n",
       "2636    False\n",
       "2637    False\n",
       "2638    False\n",
       "2639    False\n",
       "Length: 2640, dtype: bool"
      ]
     },
     "execution_count": 10,
     "metadata": {},
     "output_type": "execute_result"
    }
   ],
   "source": [
    "bl.duplicated()"
   ]
  },
  {
   "cell_type": "code",
   "execution_count": 11,
   "id": "ad3bb128",
   "metadata": {
    "execution": {
     "iopub.execute_input": "2023-12-07T15:19:22.345468Z",
     "iopub.status.busy": "2023-12-07T15:19:22.345048Z",
     "iopub.status.idle": "2023-12-07T15:19:22.356758Z",
     "shell.execute_reply": "2023-12-07T15:19:22.355700Z"
    },
    "papermill": {
     "duration": 0.023721,
     "end_time": "2023-12-07T15:19:22.358915",
     "exception": false,
     "start_time": "2023-12-07T15:19:22.335194",
     "status": "completed"
    },
    "tags": []
   },
   "outputs": [
    {
     "data": {
      "text/plain": [
       "rank                                             0\n",
       "finalWorth                                       0\n",
       "category                                         0\n",
       "personName                                       0\n",
       "age                                             65\n",
       "country                                         38\n",
       "city                                            72\n",
       "source                                           0\n",
       "industries                                       0\n",
       "countryOfCitizenship                             0\n",
       "organization                                  2315\n",
       "selfMade                                         0\n",
       "status                                           0\n",
       "gender                                           0\n",
       "birthDate                                       76\n",
       "lastName                                         0\n",
       "firstName                                        3\n",
       "title                                         2301\n",
       "date                                             0\n",
       "state                                         1887\n",
       "residenceStateRegion                          1893\n",
       "birthYear                                       76\n",
       "birthMonth                                      76\n",
       "birthDay                                        76\n",
       "cpi_country                                    184\n",
       "cpi_change_country                             184\n",
       "gdp_country                                    164\n",
       "gross_tertiary_education_enrollment            182\n",
       "gross_primary_education_enrollment_country     181\n",
       "life_expectancy_country                        182\n",
       "tax_revenue_country_country                    183\n",
       "total_tax_rate_country                         182\n",
       "population_country                             164\n",
       "latitude_country                               164\n",
       "longitude_country                              164\n",
       "dtype: int64"
      ]
     },
     "execution_count": 11,
     "metadata": {},
     "output_type": "execute_result"
    }
   ],
   "source": [
    "bl.isnull().sum()"
   ]
  },
  {
   "cell_type": "code",
   "execution_count": 12,
   "id": "dcc24e6a",
   "metadata": {
    "execution": {
     "iopub.execute_input": "2023-12-07T15:19:22.378637Z",
     "iopub.status.busy": "2023-12-07T15:19:22.378273Z",
     "iopub.status.idle": "2023-12-07T15:19:22.407212Z",
     "shell.execute_reply": "2023-12-07T15:19:22.406284Z"
    },
    "papermill": {
     "duration": 0.04196,
     "end_time": "2023-12-07T15:19:22.409685",
     "exception": false,
     "start_time": "2023-12-07T15:19:22.367725",
     "status": "completed"
    },
    "tags": []
   },
   "outputs": [],
   "source": [
    "bl['age'].fillna(bl['age'].median(), inplace=True)\n",
    "bl[\"country\"].fillna(\"Not specific\", inplace=True)\n",
    "bl[\"city\"].fillna(\"Not specific\", inplace=True)\n",
    "bl[\"organization\"].fillna(\"Not specific\", inplace=True)\n",
    "bl[\"birthDate\"].fillna(\"Unknown\")\n",
    "bl[\"firstName\"].fillna(\"Unknown\", inplace=True)\n",
    "bl[\"title\"].fillna(\"Not specific\", inplace=True)\n",
    "bl[\"state\"].fillna(\"Not specific\", inplace=True)\n",
    "bl[\"residenceStateRegion\"].fillna(\"Not specific\", inplace=True)\n",
    "bl[\"birthYear\"].fillna(\"Unknown\")\n",
    "bl[\"birthMonth\"].fillna(bl['birthMonth'].median(), inplace=True)\n",
    "bl[\"birthDay\"].fillna(bl['birthDay'].median(), inplace=True)\n",
    "bl[\"cpi_country\"].fillna(bl['cpi_country'].median(), inplace=True)\n",
    "bl[\"cpi_change_country\"].fillna(bl['cpi_change_country'].median(), inplace=True)\n",
    "bl[\"gdp_country\"].fillna(bl['gdp_country'].median(), inplace=True)\n",
    "bl[\"gross_tertiary_education_enrollment\"].fillna(bl['gross_tertiary_education_enrollment'].mean(), inplace=True)\n",
    "bl[\"gross_primary_education_enrollment_country\"].fillna(bl['gross_primary_education_enrollment_country'].mean(), inplace=True)\n",
    "bl[\"life_expectancy_country\"].fillna(bl['life_expectancy_country'].mean(), inplace=True)\n",
    "bl[\"tax_revenue_country_country\"].fillna(bl['tax_revenue_country_country'].median(), inplace=True)\n",
    "bl[\"total_tax_rate_country\"].fillna(bl['total_tax_rate_country'].median(), inplace=True)\n",
    "bl[\"population_country\"].fillna(bl['population_country'].median(), inplace=True)\n",
    "bl[\"latitude_country\"].fillna(bl['latitude_country'].median(), inplace=True)\n",
    "bl[\"longitude_country\"].fillna(bl['longitude_country'].mean(), inplace=True)\n",
    "\n",
    "\n"
   ]
  },
  {
   "cell_type": "code",
   "execution_count": 13,
   "id": "eb77ec0f",
   "metadata": {
    "execution": {
     "iopub.execute_input": "2023-12-07T15:19:22.428696Z",
     "iopub.status.busy": "2023-12-07T15:19:22.427643Z",
     "iopub.status.idle": "2023-12-07T15:19:22.440560Z",
     "shell.execute_reply": "2023-12-07T15:19:22.439198Z"
    },
    "papermill": {
     "duration": 0.025209,
     "end_time": "2023-12-07T15:19:22.443259",
     "exception": false,
     "start_time": "2023-12-07T15:19:22.418050",
     "status": "completed"
    },
    "tags": []
   },
   "outputs": [
    {
     "data": {
      "text/plain": [
       "rank                                           0\n",
       "finalWorth                                     0\n",
       "category                                       0\n",
       "personName                                     0\n",
       "age                                            0\n",
       "country                                        0\n",
       "city                                           0\n",
       "source                                         0\n",
       "industries                                     0\n",
       "countryOfCitizenship                           0\n",
       "organization                                   0\n",
       "selfMade                                       0\n",
       "status                                         0\n",
       "gender                                         0\n",
       "birthDate                                     76\n",
       "lastName                                       0\n",
       "firstName                                      0\n",
       "title                                          0\n",
       "date                                           0\n",
       "state                                          0\n",
       "residenceStateRegion                           0\n",
       "birthYear                                     76\n",
       "birthMonth                                     0\n",
       "birthDay                                       0\n",
       "cpi_country                                    0\n",
       "cpi_change_country                             0\n",
       "gdp_country                                    0\n",
       "gross_tertiary_education_enrollment            0\n",
       "gross_primary_education_enrollment_country     0\n",
       "life_expectancy_country                        0\n",
       "tax_revenue_country_country                    0\n",
       "total_tax_rate_country                         0\n",
       "population_country                             0\n",
       "latitude_country                               0\n",
       "longitude_country                              0\n",
       "dtype: int64"
      ]
     },
     "execution_count": 13,
     "metadata": {},
     "output_type": "execute_result"
    }
   ],
   "source": [
    "bl.isnull().sum()"
   ]
  },
  {
   "cell_type": "markdown",
   "id": "c85861da",
   "metadata": {
    "papermill": {
     "duration": 0.008562,
     "end_time": "2023-12-07T15:19:22.460536",
     "exception": false,
     "start_time": "2023-12-07T15:19:22.451974",
     "status": "completed"
    },
    "tags": []
   },
   "source": [
    "### Explore the wealth of billionaires by industry, region of residence, age and gender."
   ]
  },
  {
   "cell_type": "code",
   "execution_count": 14,
   "id": "62b3a4b2",
   "metadata": {
    "execution": {
     "iopub.execute_input": "2023-12-07T15:19:22.479454Z",
     "iopub.status.busy": "2023-12-07T15:19:22.479037Z",
     "iopub.status.idle": "2023-12-07T15:19:22.491665Z",
     "shell.execute_reply": "2023-12-07T15:19:22.490376Z"
    },
    "papermill": {
     "duration": 0.025667,
     "end_time": "2023-12-07T15:19:22.494648",
     "exception": false,
     "start_time": "2023-12-07T15:19:22.468981",
     "status": "completed"
    },
    "tags": []
   },
   "outputs": [],
   "source": [
    "industry_data = bl.groupby('industries').count().reset_index()\n",
    "top_10_industries = industry_data.sort_values(by='finalWorth', ascending=False).head(10)"
   ]
  },
  {
   "cell_type": "code",
   "execution_count": 15,
   "id": "808056d9",
   "metadata": {
    "execution": {
     "iopub.execute_input": "2023-12-07T15:19:22.515009Z",
     "iopub.status.busy": "2023-12-07T15:19:22.514512Z",
     "iopub.status.idle": "2023-12-07T15:19:22.956439Z",
     "shell.execute_reply": "2023-12-07T15:19:22.955572Z"
    },
    "papermill": {
     "duration": 0.454482,
     "end_time": "2023-12-07T15:19:22.958634",
     "exception": false,
     "start_time": "2023-12-07T15:19:22.504152",
     "status": "completed"
    },
    "tags": []
   },
   "outputs": [
    {
     "data": {
      "image/png": "[encoded data removed]",
      "text/plain": [
       "<Figure size 1200x600 with 1 Axes>"
      ]
     },
     "metadata": {},
     "output_type": "display_data"
    }
   ],
   "source": [
    "# Generate a color map with a distinct color for each bar\n",
    "\n",
    "colors = plt.cm.viridis(np.linspace(0, 1, len(top_10_industries)))\n",
    "\n",
    "# Create a bar plot to visualize the top 10 categories\n",
    "\n",
    "plt.figure(figsize=(12, 6))\n",
    "plt.bar(top_10_industries['industries'], top_10_industries['finalWorth'], color=colors)\n",
    "plt.xticks(rotation=45, ha=\"right\")\n",
    "plt.xlabel('Industries')\n",
    "plt.ylabel('Amount of Billionaires')\n",
    "plt.title('Top 10 Billionaires by Industries')\n",
    "plt.tight_layout()\n",
    "plt.show()"
   ]
  },
  {
   "cell_type": "code",
   "execution_count": 16,
   "id": "7639789a",
   "metadata": {
    "execution": {
     "iopub.execute_input": "2023-12-07T15:19:22.979334Z",
     "iopub.status.busy": "2023-12-07T15:19:22.978711Z",
     "iopub.status.idle": "2023-12-07T15:19:22.991309Z",
     "shell.execute_reply": "2023-12-07T15:19:22.990375Z"
    },
    "papermill": {
     "duration": 0.025279,
     "end_time": "2023-12-07T15:19:22.993454",
     "exception": false,
     "start_time": "2023-12-07T15:19:22.968175",
     "status": "completed"
    },
    "tags": []
   },
   "outputs": [],
   "source": [
    "country_data = bl.groupby('country').count().reset_index()\n",
    "top_10_country = country_data.sort_values(by='finalWorth', ascending=False).head(10)"
   ]
  },
  {
   "cell_type": "markdown",
   "id": "388eb5c3",
   "metadata": {
    "papermill": {
     "duration": 0.009061,
     "end_time": "2023-12-07T15:19:23.011910",
     "exception": false,
     "start_time": "2023-12-07T15:19:23.002849",
     "status": "completed"
    },
    "tags": []
   },
   "source": [
    "From the graph above we can learn that the most billionaires deal with finance & investments"
   ]
  },
  {
   "cell_type": "code",
   "execution_count": 17,
   "id": "b656f62c",
   "metadata": {
    "execution": {
     "iopub.execute_input": "2023-12-07T15:19:23.032820Z",
     "iopub.status.busy": "2023-12-07T15:19:23.032245Z",
     "iopub.status.idle": "2023-12-07T15:19:23.391911Z",
     "shell.execute_reply": "2023-12-07T15:19:23.390770Z"
    },
    "papermill": {
     "duration": 0.37283,
     "end_time": "2023-12-07T15:19:23.394201",
     "exception": false,
     "start_time": "2023-12-07T15:19:23.021371",
     "status": "completed"
    },
    "tags": []
   },
   "outputs": [
    {
     "data": {
      "image/png": "[encoded data removed]",
      "text/plain": [
       "<Figure size 1200x600 with 1 Axes>"
      ]
     },
     "metadata": {},
     "output_type": "display_data"
    }
   ],
   "source": [
    "# Generate a color map with a distinct color for each bar\n",
    "\n",
    "colors = plt.cm.viridis(np.linspace(0, 1, len(top_10_country)))\n",
    "\n",
    "# Create a bar plot to visualize the top 10 categories\n",
    "\n",
    "plt.figure(figsize=(12, 6))\n",
    "plt.bar(top_10_country['country'], top_10_country['finalWorth'], color=colors)\n",
    "plt.xticks(rotation=45, ha=\"right\")\n",
    "plt.xlabel('Country')\n",
    "plt.ylabel('Amount of Billionaires')\n",
    "plt.title('Top 10 Billionaires by Country')\n",
    "plt.tight_layout()\n",
    "plt.show()"
   ]
  },
  {
   "cell_type": "markdown",
   "id": "093335bc",
   "metadata": {
    "papermill": {
     "duration": 0.009815,
     "end_time": "2023-12-07T15:19:23.414299",
     "exception": false,
     "start_time": "2023-12-07T15:19:23.404484",
     "status": "completed"
    },
    "tags": []
   },
   "source": [
    "We can see that in USA is the country with the most amount of billionaires and the next one is China.\n",
    "What is interesting to see is that after these two countries the amount of billions drops significantly, it can point us to the essence of the economy of the country. We can understand it because the population of China is about 4 times larger than the population of the United States but the amount of billionaires in U.S.A is larger thane the amount of billionaires in China. What most strongly indicates the nature of the country's economy is the fact that the population sizes of China and India are more or less the same."
   ]
  },
  {
   "cell_type": "code",
   "execution_count": 18,
   "id": "1eb1be6c",
   "metadata": {
    "execution": {
     "iopub.execute_input": "2023-12-07T15:19:23.436299Z",
     "iopub.status.busy": "2023-12-07T15:19:23.435866Z",
     "iopub.status.idle": "2023-12-07T15:19:23.610466Z",
     "shell.execute_reply": "2023-12-07T15:19:23.608876Z"
    },
    "papermill": {
     "duration": 0.190914,
     "end_time": "2023-12-07T15:19:23.615348",
     "exception": false,
     "start_time": "2023-12-07T15:19:23.424434",
     "status": "completed"
    },
    "tags": []
   },
   "outputs": [
    {
     "data": {
      "image/png": "[encoded data removed]",
      "text/plain": [
       "<Figure size 800x800 with 1 Axes>"
      ]
     },
     "metadata": {},
     "output_type": "display_data"
    }
   ],
   "source": [
    "# Assuming 'gender' is a column in your DataFrame\n",
    "\n",
    "# Group data by gender and count the number of billionaires in each gender\n",
    "gender_counts = bl['gender'].value_counts()\n",
    "\n",
    "# Create a pie chart\n",
    "plt.figure(figsize=(8, 8))\n",
    "plt.pie(gender_counts, labels=gender_counts.index, autopct='%1.1f%%', startangle=90, colors=['blue', 'pink'])\n",
    "plt.title('Distribution of Billionaires by Gender')\n",
    "plt.show()"
   ]
  },
  {
   "cell_type": "markdown",
   "id": "c2dd873d",
   "metadata": {
    "papermill": {
     "duration": 0.015663,
     "end_time": "2023-12-07T15:19:23.649969",
     "exception": false,
     "start_time": "2023-12-07T15:19:23.634306",
     "status": "completed"
    },
    "tags": []
   },
   "source": [
    "We can saw that the most billionaires in the DB is male. Researches show that the number of men and women in the world is roughly equal so this DB points us about something problematic. The DB shows us the inequality that exists in the world between men and women in everything related to the economy and money."
   ]
  },
  {
   "cell_type": "code",
   "execution_count": 19,
   "id": "387c4408",
   "metadata": {
    "execution": {
     "iopub.execute_input": "2023-12-07T15:19:23.675265Z",
     "iopub.status.busy": "2023-12-07T15:19:23.674170Z",
     "iopub.status.idle": "2023-12-07T15:19:24.133224Z",
     "shell.execute_reply": "2023-12-07T15:19:24.132395Z"
    },
    "papermill": {
     "duration": 0.473233,
     "end_time": "2023-12-07T15:19:24.135172",
     "exception": false,
     "start_time": "2023-12-07T15:19:23.661939",
     "status": "completed"
    },
    "tags": []
   },
   "outputs": [
    {
     "data": {
      "image/png": "[encoded data removed]",
      "text/plain": [
       "<Figure size 1200x600 with 1 Axes>"
      ]
     },
     "metadata": {},
     "output_type": "display_data"
    }
   ],
   "source": [
    "# Set the style for the plot\n",
    "sns.set(style=\"whitegrid\")\n",
    "\n",
    "# Create a histogram using Seaborn\n",
    "plt.figure(figsize=(12, 6))\n",
    "sns.histplot(data=bl, x='age', bins=30, kde=True, color='skyblue', edgecolor='black')\n",
    "plt.title('Distribution of Billionaires by Age')\n",
    "plt.xlabel('Age')\n",
    "plt.ylabel('Number of Billionaires')\n",
    "plt.show()\n"
   ]
  },
  {
   "cell_type": "markdown",
   "id": "28896a44",
   "metadata": {
    "papermill": {
     "duration": 0.011088,
     "end_time": "2023-12-07T15:19:24.157470",
     "exception": false,
     "start_time": "2023-12-07T15:19:24.146382",
     "status": "completed"
    },
    "tags": []
   },
   "source": [
    "We can see from the graph above that most of the billionaires that are 55-65 years. In most countries of the world, the retirement age is 65 years, which means that most of the billionaires are at retirement age or nearing retirement age"
   ]
  },
  {
   "cell_type": "markdown",
   "id": "69860ae4",
   "metadata": {
    "papermill": {
     "duration": 0.011067,
     "end_time": "2023-12-07T15:19:24.179846",
     "exception": false,
     "start_time": "2023-12-07T15:19:24.168779",
     "status": "completed"
    },
    "tags": []
   },
   "source": [
    "### How many people became rich themselves and how many inherited their wealth?"
   ]
  },
  {
   "cell_type": "code",
   "execution_count": 20,
   "id": "2b81058c",
   "metadata": {
    "execution": {
     "iopub.execute_input": "2023-12-07T15:19:24.204692Z",
     "iopub.status.busy": "2023-12-07T15:19:24.204010Z",
     "iopub.status.idle": "2023-12-07T15:19:24.215027Z",
     "shell.execute_reply": "2023-12-07T15:19:24.214261Z"
    },
    "papermill": {
     "duration": 0.026098,
     "end_time": "2023-12-07T15:19:24.217385",
     "exception": false,
     "start_time": "2023-12-07T15:19:24.191287",
     "status": "completed"
    },
    "tags": []
   },
   "outputs": [
    {
     "data": {
      "text/html": [
       "<div>\n",
       "<style scoped>\n",
       "    .dataframe tbody tr th:only-of-type {\n",
       "        vertical-align: middle;\n",
       "    }\n",
       "\n",
       "    .dataframe tbody tr th {\n",
       "        vertical-align: top;\n",
       "    }\n",
       "\n",
       "    .dataframe thead th {\n",
       "        text-align: right;\n",
       "    }\n",
       "</style>\n",
       "<table border=\"1\" class=\"dataframe\">\n",
       "  <thead>\n",
       "    <tr style=\"text-align: right;\">\n",
       "      <th></th>\n",
       "      <th>frequency</th>\n",
       "      <th>percentage</th>\n",
       "    </tr>\n",
       "    <tr>\n",
       "      <th>selfMade</th>\n",
       "      <th></th>\n",
       "      <th></th>\n",
       "    </tr>\n",
       "  </thead>\n",
       "  <tbody>\n",
       "    <tr>\n",
       "      <th>True</th>\n",
       "      <td>1812</td>\n",
       "      <td>68.636364</td>\n",
       "    </tr>\n",
       "    <tr>\n",
       "      <th>False</th>\n",
       "      <td>828</td>\n",
       "      <td>31.363636</td>\n",
       "    </tr>\n",
       "  </tbody>\n",
       "</table>\n",
       "</div>"
      ],
      "text/plain": [
       "          frequency  percentage\n",
       "selfMade                       \n",
       "True           1812   68.636364\n",
       "False           828   31.363636"
      ]
     },
     "execution_count": 20,
     "metadata": {},
     "output_type": "execute_result"
    }
   ],
   "source": [
    "self_made = bl[\"selfMade\"].value_counts()\n",
    "self_made= pd.DataFrame({\"frequency\": self_made, \"percentage\": self_made/(self_made.sum())*100})\n",
    "self_made"
   ]
  },
  {
   "cell_type": "code",
   "execution_count": 21,
   "id": "20e7c067",
   "metadata": {
    "execution": {
     "iopub.execute_input": "2023-12-07T15:19:24.243196Z",
     "iopub.status.busy": "2023-12-07T15:19:24.242493Z",
     "iopub.status.idle": "2023-12-07T15:19:24.369368Z",
     "shell.execute_reply": "2023-12-07T15:19:24.368516Z"
    },
    "papermill": {
     "duration": 0.143252,
     "end_time": "2023-12-07T15:19:24.372326",
     "exception": false,
     "start_time": "2023-12-07T15:19:24.229074",
     "status": "completed"
    },
    "tags": []
   },
   "outputs": [
    {
     "data": {
      "image/png": "[encoded data removed]",
      "text/plain": [
       "<Figure size 640x480 with 1 Axes>"
      ]
     },
     "metadata": {},
     "output_type": "display_data"
    }
   ],
   "source": [
    "# Assuming self_made_pro is your DataFrame\n",
    "# If not, replace it with the actual DataFrame name\n",
    "labels = self_made.index\n",
    "sizes = self_made['percentage']\n",
    "colors = ['lightcoral', 'lightskyblue']  # You can customize the colors if needed\n",
    "\n",
    "plt.pie(sizes, labels=labels, autopct='%1.1f%%', colors=colors, startangle=90)\n",
    "plt.title('Distribution of Wealth Source')\n",
    "plt.axis('equal')  # Equal aspect ratio ensures that the pie is drawn as a circle.\n",
    "plt.show()\n"
   ]
  },
  {
   "cell_type": "markdown",
   "id": "a690c502",
   "metadata": {
    "papermill": {
     "duration": 0.020223,
     "end_time": "2023-12-07T15:19:24.413151",
     "exception": false,
     "start_time": "2023-12-07T15:19:24.392928",
     "status": "completed"
    },
    "tags": []
   },
   "source": [
    "We can see in the graph above that most people earn their wealth on their own and do not inherit it. "
   ]
  }
 ],
 "metadata": {
  "kaggle": {
   "accelerator": "none",
   "dataSources": [
    {
     "datasetId": 3795419,
     "sourceId": 6570253,
     "sourceType": "datasetVersion"
    }
   ],
   "dockerImageVersionId": 30558,
   "isGpuEnabled": false,
   "isInternetEnabled": true,
   "language": "python",
   "sourceType": "notebook"
  },
  "kernelspec": {
   "display_name": "Python 3",
   "language": "python",
   "name": "python3"
  },
  "language_info": {
   "codemirror_mode": {
    "name": "ipython",
    "version": 3
   },
   "file_extension": ".py",
   "mimetype": "text/x-python",
   "name": "python",
   "nbconvert_exporter": "python",
   "pygments_lexer": "ipython3",
   "version": "3.10.12"
  },
  "papermill": {
   "default_parameters": {},
   "duration": 9.99478,
   "end_time": "2023-12-07T15:19:25.114192",
   "environment_variables": {},
   "exception": null,
   "input_path": "__notebook__.ipynb",
   "output_path": "__notebook__.ipynb",
   "parameters": {},
   "start_time": "2023-12-07T15:19:15.119412",
   "version": "2.4.0"
  }
 },
 "nbformat": 4,
 "nbformat_minor": 5
}
